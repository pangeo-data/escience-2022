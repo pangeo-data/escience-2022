{
 "cells": [
  {
   "cell_type": "markdown",
   "id": "dominant-indicator",
   "metadata": {},
   "source": [
    "# Regridding model data with xESMF"
   ]
  },
  {
   "cell_type": "markdown",
   "id": "reflected-chambers",
   "metadata": {},
   "source": [
    "## Import python packages"
   ]
  },
  {
   "cell_type": "code",
   "execution_count": null,
   "id": "novel-indicator",
   "metadata": {},
   "outputs": [],
   "source": [
    "# supress warnings\n",
    "import warnings\n",
    "warnings.filterwarnings('ignore') # don't output warnings\n",
    "\n",
    "import os\n",
    "# import packages\n",
    "import xarray as xr\n",
    "xr.set_options(display_style='html')\n",
    "import intake\n",
    "import cftime\n",
    "import cartopy.crs as ccrs\n",
    "import matplotlib.pyplot as plt\n",
    "import matplotlib.path as mpath\n",
    "import numpy as np\n",
    "import xesmf as xe\n",
    "from cmcrameri import cm\n",
    "\n",
    "%matplotlib inline"
   ]
  },
  {
   "cell_type": "markdown",
   "id": "conditional-configuration",
   "metadata": {},
   "source": [
    "## Open CMIP6 online catalog"
   ]
  },
  {
   "cell_type": "code",
   "execution_count": null,
   "id": "formed-symbol",
   "metadata": {},
   "outputs": [],
   "source": [
    "cat_url = \"https://storage.googleapis.com/cmip6/pangeo-cmip6.json\"\n",
    "col = intake.open_esm_datastore(cat_url)\n",
    "col"
   ]
  },
  {
   "cell_type": "markdown",
   "id": "polyphonic-national",
   "metadata": {},
   "source": [
    "## Get data in xarray\n",
    "### Search od550aer variable dataset"
   ]
  },
  {
   "cell_type": "code",
   "execution_count": null,
   "id": "local-wrist",
   "metadata": {},
   "outputs": [],
   "source": [
    "cat = col.search(experiment_id=['historical'], variable_id='od550aer', member_id=['r1i1p1f1'], grid_label='gn')\n",
    "cat.df"
   ]
  },
  {
   "cell_type": "code",
   "execution_count": null,
   "id": "acoustic-anaheim",
   "metadata": {},
   "outputs": [],
   "source": [
    "cat.df['source_id'].unique()"
   ]
  },
  {
   "cell_type": "markdown",
   "id": "introductory-blond",
   "metadata": {},
   "source": [
    "### Create dictionary from the list of datasets we found\n",
    "\n",
    "- This step may take several minutes so be patient!"
   ]
  },
  {
   "cell_type": "code",
   "execution_count": null,
   "id": "broad-carol",
   "metadata": {},
   "outputs": [],
   "source": [
    "dset_dict = cat.to_dataset_dict(zarr_kwargs={'use_cftime':True})"
   ]
  },
  {
   "cell_type": "code",
   "execution_count": null,
   "id": "incorporated-range",
   "metadata": {},
   "outputs": [],
   "source": [
    "list(dset_dict.keys())"
   ]
  },
  {
   "cell_type": "markdown",
   "id": "endless-dominican",
   "metadata": {},
   "source": [
    "## Select model and visualize a single date\n",
    "- Use data as xarray to make a simple plot"
   ]
  },
  {
   "cell_type": "code",
   "execution_count": null,
   "id": "olive-heaven",
   "metadata": {},
   "outputs": [],
   "source": [
    "ds = dset_dict['CMIP.NCC.NorESM2-LM.historical.AERmon.gn']\n",
    "ds"
   ]
  },
  {
   "cell_type": "markdown",
   "id": "informative-backing",
   "metadata": {},
   "source": [
    "### Plot on NorthPolarStereo and set the latitude limit "
   ]
  },
  {
   "cell_type": "code",
   "execution_count": null,
   "id": "steady-pantyhose",
   "metadata": {},
   "outputs": [],
   "source": [
    "def polarCentral_set_latlim(lat_lims, ax):\n",
    "    ax.set_extent([-180, 180, lat_lims[0], lat_lims[1]], ccrs.PlateCarree())\n",
    "    # Compute a circle in axes coordinates, which we can use as a boundary\n",
    "    # for the map. We can pan/zoom as much as we like - the boundary will be\n",
    "    # permanently circular.\n",
    "    theta = np.linspace(0, 2*np.pi, 100)\n",
    "    center, radius = [0.5, 0.5], 0.5\n",
    "    verts = np.vstack([np.sin(theta), np.cos(theta)]).T\n",
    "    circle = mpath.Path(verts * radius + center)\n",
    "\n",
    "    ax.set_boundary(circle, transform=ax.transAxes)"
   ]
  },
  {
   "cell_type": "code",
   "execution_count": null,
   "id": "competent-fantasy",
   "metadata": {},
   "outputs": [],
   "source": [
    "fig = plt.figure(1, figsize=[10,10])\n",
    "\n",
    "# Fix extent\n",
    "minval = 0\n",
    "maxval = 0.3\n",
    "\n",
    "ax = plt.subplot(1, 1, 1, projection=ccrs.NorthPolarStereo())\n",
    "ax.coastlines()\n",
    "ax.gridlines()\n",
    "polarCentral_set_latlim([50,90], ax)\n",
    "ds['od550aer'].sel(time=cftime.DatetimeNoLeap(1985, 1, 16, 12, 0, 0, 0)).plot(ax=ax, vmin=minval, vmax=maxval, transform=ccrs.PlateCarree(), cmap=cm.oslo_r)"
   ]
  },
  {
   "cell_type": "markdown",
   "id": "material-lender",
   "metadata": {},
   "source": [
    "### Get attributes (unique identifier)"
   ]
  },
  {
   "cell_type": "code",
   "execution_count": null,
   "id": "bizarre-province",
   "metadata": {},
   "outputs": [],
   "source": [
    "ds.attrs['tracking_id']"
   ]
  },
  {
   "cell_type": "markdown",
   "id": "marine-samoa",
   "metadata": {},
   "source": [
    "## Regrid CMIP6 data to common NorESM2-LM grid\n",
    "- Select a time range\n",
    "- we use `squeeze` to remove dimension with one element only e.g. member_id='r1i1p1f1'"
   ]
  },
  {
   "cell_type": "code",
   "execution_count": null,
   "id": "designing-bridges",
   "metadata": {},
   "outputs": [],
   "source": [
    "starty = 1985; endy = 1986\n",
    "year_range = range(starty, endy+1)"
   ]
  },
  {
   "cell_type": "code",
   "execution_count": null,
   "id": "unknown-physics",
   "metadata": {},
   "outputs": [],
   "source": [
    "# Read in the output grid from NorESM\n",
    "ds_out = ds.sel(time = ds.time.dt.year.isin(year_range)).squeeze()\n",
    "ds_out"
   ]
  },
  {
   "cell_type": "code",
   "execution_count": null,
   "id": "altered-rebecca",
   "metadata": {},
   "outputs": [],
   "source": [
    "# create dictionary for reggridded data\n",
    "ds_regrid_dict = dict()\n",
    "for key in dset_dict.keys():\n",
    "    print(key)\n",
    "    ds_in = dset_dict[keys]\n",
    "    ds_in = ds_in.sel(time = ds_in.time.dt.year.isin(year_range)).squeeze()\n",
    "    regridder = xe.Regridder(ds_in, ds_out, 'bilinear')\n",
    "    # Apply regridder to data\n",
    "    # the entire dataset can be processed at once\n",
    "    ds_in_regrid = regridder(ds_in, keep_attrs=True)\n",
    "    # Save to netcdf file\n",
    "    model = key.split('.')[2]\n",
    "    filename = 'od550aer_AERmon.nc'\n",
    "    savepath = 'CMIP6_hist/{}'.format(model)\n",
    "    nc_out = os.path.join(savepath, filename)\n",
    "    os.makedirs(savepath, exist_ok=True) \n",
    "    ds_in_regrid.to_netcdf(nc_out)\n",
    "    # create dataset with all models\n",
    "    ds_regrid_dict[model] = ds_in_regrid\n",
    "    print('file written: {}'.format(nc_out))"
   ]
  },
  {
   "cell_type": "markdown",
   "id": "practical-winter",
   "metadata": {},
   "source": [
    "## Concatenate all models"
   ]
  },
  {
   "cell_type": "code",
   "execution_count": null,
   "id": "yellow-organic",
   "metadata": {},
   "outputs": [],
   "source": [
    "_ds = list(ds_regrid_dict.values())\n",
    "_coord = list(ds_regrid_dict.keys())\n",
    "ds_out_regrid = xr.concat(objs=_ds, dim=_coord, coords=\"all\").rename({'concat_dim':'model'})\n",
    "ds_out_regrid"
   ]
  },
  {
   "cell_type": "markdown",
   "id": "simplified-equivalent",
   "metadata": {},
   "source": [
    "## Compute seasonal mean of all regridded models"
   ]
  },
  {
   "cell_type": "code",
   "execution_count": null,
   "id": "given-stuart",
   "metadata": {},
   "outputs": [],
   "source": [
    "ds_seas = ds_out_regrid.mean('model', keep_attrs=True, skipna = True).groupby('time.season').mean('time', keep_attrs=True, skipna = True)\n",
    "ds_seas"
   ]
  },
  {
   "cell_type": "code",
   "execution_count": null,
   "id": "confidential-communications",
   "metadata": {},
   "outputs": [],
   "source": [
    "ds_seas['od550aer'].min().compute(), ds_seas['od550aer'].max().compute()"
   ]
  },
  {
   "cell_type": "markdown",
   "id": "marked-knight",
   "metadata": {},
   "source": [
    "## Save seasonal mean in a new netCDF file and in the current Galaxy history"
   ]
  },
  {
   "cell_type": "code",
   "execution_count": null,
   "id": "crazy-arbitration",
   "metadata": {},
   "outputs": [],
   "source": [
    "ds_seas.to_netcdf('CMIP6_hist/od550aer_seasonal.nc')"
   ]
  },
  {
   "cell_type": "code",
   "execution_count": null,
   "id": "nervous-worship",
   "metadata": {},
   "outputs": [],
   "source": [
    "!put -p CMIP6_hist/od550aer_seasonal.nc -t netcdf"
   ]
  },
  {
   "cell_type": "markdown",
   "id": "initial-volleyball",
   "metadata": {},
   "source": [
    "## Visualize final results (seasonal mean for all models)"
   ]
  },
  {
   "cell_type": "code",
   "execution_count": null,
   "id": "affecting-republic",
   "metadata": {},
   "outputs": [],
   "source": [
    "import matplotlib\n",
    "proj_plot = ccrs.Mercator()\n",
    "\n",
    "p = ds_seas['od550aer'].plot(x='lon', y='lat', transform=ccrs.PlateCarree(),\n",
    "                             aspect=ds_seas.dims[\"lon\"] / ds_seas.dims[\"lat\"],  # for a sensible figsize\n",
    "                             subplot_kws={\"projection\": proj_plot},\n",
    "                             col='season', col_wrap=2, robust=True, cmap='PiYG')\n",
    "# We have to set the map's options on all four axes\n",
    "for ax,i in zip(p.axes.flat,  ds_seas.season.values):\n",
    "    ax.coastlines()\n",
    "    ax.set_title('Season '+i, fontsize=18)\n",
    "fig = matplotlib.pyplot.gcf()\n",
    "fig.set_size_inches(18.5, 10.5)\n",
    "fig.savefig('od550aer_seasonal_mean.png', dpi=100)"
   ]
  },
  {
   "cell_type": "code",
   "execution_count": null,
   "id": "european-seller",
   "metadata": {},
   "outputs": [],
   "source": []
  }
 ],
 "metadata": {
  "interpreter": {
   "hash": "7f24944080b15318569c1ef785be98f8dd5a0531d3a23558ab9e7edab213d92e"
  },
  "kernelspec": {
   "display_name": "Python [conda env:notebook] *",
   "language": "python",
   "name": "conda-env-notebook-py"
  },
  "language_info": {
   "codemirror_mode": {
    "name": "ipython",
    "version": 3
   },
   "file_extension": ".py",
   "mimetype": "text/x-python",
   "name": "python",
   "nbconvert_exporter": "python",
   "pygments_lexer": "ipython3",
   "version": "3.9.13"
  }
 },
 "nbformat": 4,
 "nbformat_minor": 5
}
